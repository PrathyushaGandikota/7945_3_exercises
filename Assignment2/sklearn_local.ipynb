{
 "cells": [
  {
   "cell_type": "markdown",
   "metadata": {},
   "source": [
    "## Import Libraries"
   ]
  },
  {
   "cell_type": "code",
   "execution_count": 1,
   "metadata": {},
   "outputs": [],
   "source": [
    "import sagemaker\n",
    "from sagemaker import get_execution_role\n",
    "\n",
    "sagemaker_session = sagemaker.LocalSession()\n",
    "\n",
    "dependancy_path = 'dependencies.py'\n",
    "bucket = sagemaker_session.default_bucket()\n",
    "prefix = \"Scikit-LinearLearner-pipeline-housing_data-example\""
   ]
  },
  {
   "cell_type": "code",
   "execution_count": 2,
   "metadata": {},
   "outputs": [],
   "source": [
    "role = 'arn:aws:iam::600009802643:role/aws_sagemaker'"
   ]
  },
  {
   "cell_type": "code",
   "execution_count": 3,
   "metadata": {},
   "outputs": [
    {
     "name": "stdout",
     "output_type": "stream",
     "text": [
      "arn:aws:iam::768014633529:role/aws-sagemaker-access\n"
     ]
    }
   ],
   "source": [
    "WORK_DIRECTORY = \".\"\n",
    "\n",
    "train_input = sagemaker_session.upload_data(\n",
    "    path=\"{}/{}\".format(WORK_DIRECTORY, \"housing_data.csv\"),\n",
    "    bucket=bucket,\n",
    "    key_prefix=\"{}/{}\".format(prefix, \"train\"),\n",
    ")"
   ]
  },
  {
   "cell_type": "markdown",
   "metadata": {},
   "source": [
    "##  Create SageMaker Scikit Estimator "
   ]
  },
  {
   "cell_type": "code",
   "execution_count": 4,
   "metadata": {},
   "outputs": [],
   "source": [
    "from sagemaker.sklearn.estimator import SKLearn\n",
    "\n",
    "FRAMEWORK_VERSION = \"0.23-1\"\n",
    "script_path = 'sklearn_entry_point.py'\n",
    "\n",
    "sklearn_preprocessor = SKLearn(\n",
    "    entry_point=script_path,\n",
    "    role=role,\n",
    "    framework_version=FRAMEWORK_VERSION,\n",
    "    instance_type='local',\n",
    "    dependencies=[dependancy_path],\n",
    "    sagemaker_session=sagemaker_session)"
   ]
  },
  {
   "cell_type": "code",
   "execution_count": 5,
   "metadata": {},
   "outputs": [
    {
     "name": "stdout",
     "output_type": "stream",
     "text": [
      "Creating tmpypb0cqvv_algo-1-oodg4_1 ... \n",
      "\u001b[1BAttaching to tmpypb0cqvv_algo-1-oodg4_12mdone\u001b[0m\n",
      "\u001b[36malgo-1-oodg4_1  |\u001b[0m 2021-04-26 09:39:32,192 sagemaker-training-toolkit INFO     Imported framework sagemaker_sklearn_container.training\n",
      "\u001b[36malgo-1-oodg4_1  |\u001b[0m 2021-04-26 09:39:32,200 sagemaker-training-toolkit INFO     No GPUs detected (normal if no gpus installed)\n",
      "\u001b[36malgo-1-oodg4_1  |\u001b[0m 2021-04-26 09:39:32,242 sagemaker_sklearn_container.training INFO     Invoking user training script.\n",
      "\u001b[36malgo-1-oodg4_1  |\u001b[0m 2021-04-26 09:39:35,181 sagemaker-training-toolkit INFO     No GPUs detected (normal if no gpus installed)\n",
      "\u001b[36malgo-1-oodg4_1  |\u001b[0m 2021-04-26 09:39:35,252 sagemaker-training-toolkit INFO     No GPUs detected (normal if no gpus installed)\n",
      "\u001b[36malgo-1-oodg4_1  |\u001b[0m 2021-04-26 09:39:35,290 sagemaker-training-toolkit INFO     No GPUs detected (normal if no gpus installed)\n",
      "\u001b[36malgo-1-oodg4_1  |\u001b[0m 2021-04-26 09:39:35,319 sagemaker-training-toolkit INFO     Invoking user script\n",
      "\u001b[36malgo-1-oodg4_1  |\u001b[0m \n",
      "\u001b[36malgo-1-oodg4_1  |\u001b[0m Training Env:\n",
      "\u001b[36malgo-1-oodg4_1  |\u001b[0m \n",
      "\u001b[36malgo-1-oodg4_1  |\u001b[0m {\n",
      "\u001b[36malgo-1-oodg4_1  |\u001b[0m     \"additional_framework_parameters\": {},\n",
      "\u001b[36malgo-1-oodg4_1  |\u001b[0m     \"channel_input_dirs\": {\n",
      "\u001b[36malgo-1-oodg4_1  |\u001b[0m         \"train\": \"/opt/ml/input/data/train\"\n",
      "\u001b[36malgo-1-oodg4_1  |\u001b[0m     },\n",
      "\u001b[36malgo-1-oodg4_1  |\u001b[0m     \"current_host\": \"algo-1-oodg4\",\n",
      "\u001b[36malgo-1-oodg4_1  |\u001b[0m     \"framework_module\": \"sagemaker_sklearn_container.training:main\",\n",
      "\u001b[36malgo-1-oodg4_1  |\u001b[0m     \"hosts\": [\n",
      "\u001b[36malgo-1-oodg4_1  |\u001b[0m         \"algo-1-oodg4\"\n",
      "\u001b[36malgo-1-oodg4_1  |\u001b[0m     ],\n",
      "\u001b[36malgo-1-oodg4_1  |\u001b[0m     \"hyperparameters\": {},\n",
      "\u001b[36malgo-1-oodg4_1  |\u001b[0m     \"input_config_dir\": \"/opt/ml/input/config\",\n",
      "\u001b[36malgo-1-oodg4_1  |\u001b[0m     \"input_data_config\": {\n",
      "\u001b[36malgo-1-oodg4_1  |\u001b[0m         \"train\": {\n",
      "\u001b[36malgo-1-oodg4_1  |\u001b[0m             \"TrainingInputMode\": \"File\"\n",
      "\u001b[36malgo-1-oodg4_1  |\u001b[0m         }\n",
      "\u001b[36malgo-1-oodg4_1  |\u001b[0m     },\n",
      "\u001b[36malgo-1-oodg4_1  |\u001b[0m     \"input_dir\": \"/opt/ml/input\",\n",
      "\u001b[36malgo-1-oodg4_1  |\u001b[0m     \"is_master\": true,\n",
      "\u001b[36malgo-1-oodg4_1  |\u001b[0m     \"job_name\": \"sagemaker-scikit-learn-2021-04-26-09-39-09-599\",\n",
      "\u001b[36malgo-1-oodg4_1  |\u001b[0m     \"log_level\": 20,\n",
      "\u001b[36malgo-1-oodg4_1  |\u001b[0m     \"master_hostname\": \"algo-1-oodg4\",\n",
      "\u001b[36malgo-1-oodg4_1  |\u001b[0m     \"model_dir\": \"/opt/ml/model\",\n",
      "\u001b[36malgo-1-oodg4_1  |\u001b[0m     \"module_dir\": \"s3://sagemaker-us-east-2-768014633529/sagemaker-scikit-learn-2021-04-26-09-39-09-599/source/sourcedir.tar.gz\",\n",
      "\u001b[36malgo-1-oodg4_1  |\u001b[0m     \"module_name\": \"sklearn_entry_point\",\n",
      "\u001b[36malgo-1-oodg4_1  |\u001b[0m     \"network_interface_name\": \"eth0\",\n",
      "\u001b[36malgo-1-oodg4_1  |\u001b[0m     \"num_cpus\": 4,\n",
      "\u001b[36malgo-1-oodg4_1  |\u001b[0m     \"num_gpus\": 0,\n",
      "\u001b[36malgo-1-oodg4_1  |\u001b[0m     \"output_data_dir\": \"/opt/ml/output/data\",\n",
      "\u001b[36malgo-1-oodg4_1  |\u001b[0m     \"output_dir\": \"/opt/ml/output\",\n",
      "\u001b[36malgo-1-oodg4_1  |\u001b[0m     \"output_intermediate_dir\": \"/opt/ml/output/intermediate\",\n",
      "\u001b[36malgo-1-oodg4_1  |\u001b[0m     \"resource_config\": {\n",
      "\u001b[36malgo-1-oodg4_1  |\u001b[0m         \"current_host\": \"algo-1-oodg4\",\n",
      "\u001b[36malgo-1-oodg4_1  |\u001b[0m         \"hosts\": [\n",
      "\u001b[36malgo-1-oodg4_1  |\u001b[0m             \"algo-1-oodg4\"\n",
      "\u001b[36malgo-1-oodg4_1  |\u001b[0m         ]\n",
      "\u001b[36malgo-1-oodg4_1  |\u001b[0m     },\n",
      "\u001b[36malgo-1-oodg4_1  |\u001b[0m     \"user_entry_point\": \"sklearn_entry_point.py\"\n",
      "\u001b[36malgo-1-oodg4_1  |\u001b[0m }\n",
      "\u001b[36malgo-1-oodg4_1  |\u001b[0m \n",
      "\u001b[36malgo-1-oodg4_1  |\u001b[0m Environment variables:\n",
      "\u001b[36malgo-1-oodg4_1  |\u001b[0m \n",
      "\u001b[36malgo-1-oodg4_1  |\u001b[0m SM_HOSTS=[\"algo-1-oodg4\"]\n",
      "\u001b[36malgo-1-oodg4_1  |\u001b[0m SM_NETWORK_INTERFACE_NAME=eth0\n",
      "\u001b[36malgo-1-oodg4_1  |\u001b[0m SM_HPS={}\n",
      "\u001b[36malgo-1-oodg4_1  |\u001b[0m SM_USER_ENTRY_POINT=sklearn_entry_point.py\n",
      "\u001b[36malgo-1-oodg4_1  |\u001b[0m SM_FRAMEWORK_PARAMS={}\n",
      "\u001b[36malgo-1-oodg4_1  |\u001b[0m SM_RESOURCE_CONFIG={\"current_host\":\"algo-1-oodg4\",\"hosts\":[\"algo-1-oodg4\"]}\n",
      "\u001b[36malgo-1-oodg4_1  |\u001b[0m SM_INPUT_DATA_CONFIG={\"train\":{\"TrainingInputMode\":\"File\"}}\n",
      "\u001b[36malgo-1-oodg4_1  |\u001b[0m SM_OUTPUT_DATA_DIR=/opt/ml/output/data\n",
      "\u001b[36malgo-1-oodg4_1  |\u001b[0m SM_CHANNELS=[\"train\"]\n",
      "\u001b[36malgo-1-oodg4_1  |\u001b[0m SM_CURRENT_HOST=algo-1-oodg4\n",
      "\u001b[36malgo-1-oodg4_1  |\u001b[0m SM_MODULE_NAME=sklearn_entry_point\n",
      "\u001b[36malgo-1-oodg4_1  |\u001b[0m SM_LOG_LEVEL=20\n",
      "\u001b[36malgo-1-oodg4_1  |\u001b[0m SM_FRAMEWORK_MODULE=sagemaker_sklearn_container.training:main\n",
      "\u001b[36malgo-1-oodg4_1  |\u001b[0m SM_INPUT_DIR=/opt/ml/input\n",
      "\u001b[36malgo-1-oodg4_1  |\u001b[0m SM_INPUT_CONFIG_DIR=/opt/ml/input/config\n",
      "\u001b[36malgo-1-oodg4_1  |\u001b[0m SM_OUTPUT_DIR=/opt/ml/output\n",
      "\u001b[36malgo-1-oodg4_1  |\u001b[0m SM_NUM_CPUS=4\n",
      "\u001b[36malgo-1-oodg4_1  |\u001b[0m SM_NUM_GPUS=0\n",
      "\u001b[36malgo-1-oodg4_1  |\u001b[0m SM_MODEL_DIR=/opt/ml/model\n",
      "\u001b[36malgo-1-oodg4_1  |\u001b[0m SM_MODULE_DIR=s3://sagemaker-us-east-2-768014633529/sagemaker-scikit-learn-2021-04-26-09-39-09-599/source/sourcedir.tar.gz\n",
      "\u001b[36malgo-1-oodg4_1  |\u001b[0m SM_TRAINING_ENV={\"additional_framework_parameters\":{},\"channel_input_dirs\":{\"train\":\"/opt/ml/input/data/train\"},\"current_host\":\"algo-1-oodg4\",\"framework_module\":\"sagemaker_sklearn_container.training:main\",\"hosts\":[\"algo-1-oodg4\"],\"hyperparameters\":{},\"input_config_dir\":\"/opt/ml/input/config\",\"input_data_config\":{\"train\":{\"TrainingInputMode\":\"File\"}},\"input_dir\":\"/opt/ml/input\",\"is_master\":true,\"job_name\":\"sagemaker-scikit-learn-2021-04-26-09-39-09-599\",\"log_level\":20,\"master_hostname\":\"algo-1-oodg4\",\"model_dir\":\"/opt/ml/model\",\"module_dir\":\"s3://sagemaker-us-east-2-768014633529/sagemaker-scikit-learn-2021-04-26-09-39-09-599/source/sourcedir.tar.gz\",\"module_name\":\"sklearn_entry_point\",\"network_interface_name\":\"eth0\",\"num_cpus\":4,\"num_gpus\":0,\"output_data_dir\":\"/opt/ml/output/data\",\"output_dir\":\"/opt/ml/output\",\"output_intermediate_dir\":\"/opt/ml/output/intermediate\",\"resource_config\":{\"current_host\":\"algo-1-oodg4\",\"hosts\":[\"algo-1-oodg4\"]},\"user_entry_point\":\"sklearn_entry_point.py\"}\n",
      "\u001b[36malgo-1-oodg4_1  |\u001b[0m SM_USER_ARGS=[]\n",
      "\u001b[36malgo-1-oodg4_1  |\u001b[0m SM_OUTPUT_INTERMEDIATE_DIR=/opt/ml/output/intermediate\n",
      "\u001b[36malgo-1-oodg4_1  |\u001b[0m SM_CHANNEL_TRAIN=/opt/ml/input/data/train\n",
      "\u001b[36malgo-1-oodg4_1  |\u001b[0m PYTHONPATH=/opt/ml/code:/miniconda3/bin:/miniconda3/lib/python37.zip:/miniconda3/lib/python3.7:/miniconda3/lib/python3.7/lib-dynload:/miniconda3/lib/python3.7/site-packages\n",
      "\u001b[36malgo-1-oodg4_1  |\u001b[0m \n",
      "\u001b[36malgo-1-oodg4_1  |\u001b[0m Invoking script with the following command:\n",
      "\u001b[36malgo-1-oodg4_1  |\u001b[0m \n",
      "\u001b[36malgo-1-oodg4_1  |\u001b[0m /miniconda3/bin/python sklearn_entry_point.py\n",
      "\u001b[36malgo-1-oodg4_1  |\u001b[0m \n",
      "\u001b[36malgo-1-oodg4_1  |\u001b[0m \n",
      "\u001b[36malgo-1-oodg4_1  |\u001b[0m ***********Executing numerical transformer************\n",
      "\u001b[36malgo-1-oodg4_1  |\u001b[0m ***********Executing categorical transformer************\n",
      "\u001b[36malgo-1-oodg4_1  |\u001b[0m ***********Executing Column transformer************\n",
      "\u001b[36malgo-1-oodg4_1  |\u001b[0m ***********Executing FIT************\n",
      "\u001b[36malgo-1-oodg4_1  |\u001b[0m saved model!\n",
      "\u001b[36malgo-1-oodg4_1  |\u001b[0m 2021-04-26 09:39:44,302 sagemaker-training-toolkit INFO     Reporting training SUCCESS\n",
      "\u001b[36mtmpypb0cqvv_algo-1-oodg4_1 exited with code 0\n",
      "\u001b[0mAborting on container exit...\n",
      "===== Job Complete =====\n"
     ]
    }
   ],
   "source": [
    "sklearn_preprocessor.fit({'train': train_data})"
   ]
  },
  {
   "cell_type": "markdown",
   "metadata": {},
   "source": [
    "## Batch transform the training data"
   ]
  },
  {
   "cell_type": "code",
   "execution_count": 6,
   "metadata": {},
   "outputs": [],
   "source": [
    "# Define a SKLearn Transformer from the trained SKLearn Estimator\n",
    "transformer = sklearn_preprocessor.transformer(\n",
    "    instance_count=1, \n",
    "    instance_type='local',\n",
    "    assemble_with = 'Line',\n",
    "    accept = 'text/csv')"
   ]
  },
  {
   "cell_type": "code",
   "execution_count": 7,
   "metadata": {},
   "outputs": [
    {
     "name": "stdout",
     "output_type": "stream",
     "text": [
      "Attaching to tmp4w984g7f_algo-1-yaj84_1\n",
      "\u001b[36malgo-1-yaj84_1  |\u001b[0m 2021-04-26 09:39:53,818 INFO - sagemaker-containers - No GPUs detected (normal if no gpus installed)\n",
      "\u001b[36malgo-1-yaj84_1  |\u001b[0m 2021-04-26 09:39:53,826 INFO - sagemaker-containers - No GPUs detected (normal if no gpus installed)\n",
      "\u001b[36malgo-1-yaj84_1  |\u001b[0m 2021-04-26 09:39:53,836 INFO - sagemaker-containers - nginx config: \n",
      "\u001b[36malgo-1-yaj84_1  |\u001b[0m worker_processes auto;\n",
      "\u001b[36malgo-1-yaj84_1  |\u001b[0m daemon off;\n",
      "\u001b[36malgo-1-yaj84_1  |\u001b[0m pid /tmp/nginx.pid;\n",
      "\u001b[36malgo-1-yaj84_1  |\u001b[0m error_log  /dev/stderr;\n",
      "\u001b[36malgo-1-yaj84_1  |\u001b[0m \n",
      "\u001b[36malgo-1-yaj84_1  |\u001b[0m worker_rlimit_nofile 4096;\n",
      "\u001b[36malgo-1-yaj84_1  |\u001b[0m \n",
      "\u001b[36malgo-1-yaj84_1  |\u001b[0m events {\n",
      "\u001b[36malgo-1-yaj84_1  |\u001b[0m   worker_connections 2048;\n",
      "\u001b[36malgo-1-yaj84_1  |\u001b[0m }\n",
      "\u001b[36malgo-1-yaj84_1  |\u001b[0m \n",
      "\u001b[36malgo-1-yaj84_1  |\u001b[0m http {\n",
      "\u001b[36malgo-1-yaj84_1  |\u001b[0m   include /etc/nginx/mime.types;\n",
      "\u001b[36malgo-1-yaj84_1  |\u001b[0m   default_type application/octet-stream;\n",
      "\u001b[36malgo-1-yaj84_1  |\u001b[0m   access_log /dev/stdout combined;\n",
      "\u001b[36malgo-1-yaj84_1  |\u001b[0m \n",
      "\u001b[36malgo-1-yaj84_1  |\u001b[0m   upstream gunicorn {\n",
      "\u001b[36malgo-1-yaj84_1  |\u001b[0m     server unix:/tmp/gunicorn.sock;\n",
      "\u001b[36malgo-1-yaj84_1  |\u001b[0m   }\n",
      "\u001b[36malgo-1-yaj84_1  |\u001b[0m \n",
      "\u001b[36malgo-1-yaj84_1  |\u001b[0m   server {\n",
      "\u001b[36malgo-1-yaj84_1  |\u001b[0m     listen 8080 deferred;\n",
      "\u001b[36malgo-1-yaj84_1  |\u001b[0m     client_max_body_size 0;\n",
      "\u001b[36malgo-1-yaj84_1  |\u001b[0m \n",
      "\u001b[36malgo-1-yaj84_1  |\u001b[0m     keepalive_timeout 3;\n",
      "\u001b[36malgo-1-yaj84_1  |\u001b[0m \n",
      "\u001b[36malgo-1-yaj84_1  |\u001b[0m     location ~ ^/(ping|invocations|execution-parameters) {\n",
      "\u001b[36malgo-1-yaj84_1  |\u001b[0m       proxy_set_header X-Forwarded-For $proxy_add_x_forwarded_for;\n",
      "\u001b[36malgo-1-yaj84_1  |\u001b[0m       proxy_set_header Host $http_host;\n",
      "\u001b[36malgo-1-yaj84_1  |\u001b[0m       proxy_redirect off;\n",
      "\u001b[36malgo-1-yaj84_1  |\u001b[0m       proxy_read_timeout 60s;\n",
      "\u001b[36malgo-1-yaj84_1  |\u001b[0m       proxy_pass http://gunicorn;\n",
      "\u001b[36malgo-1-yaj84_1  |\u001b[0m     }\n",
      "\u001b[36malgo-1-yaj84_1  |\u001b[0m \n",
      "\u001b[36malgo-1-yaj84_1  |\u001b[0m     location / {\n",
      "\u001b[36malgo-1-yaj84_1  |\u001b[0m       return 404 \"{}\";\n",
      "\u001b[36malgo-1-yaj84_1  |\u001b[0m     }\n",
      "\u001b[36malgo-1-yaj84_1  |\u001b[0m \n",
      "\u001b[36malgo-1-yaj84_1  |\u001b[0m   }\n",
      "\u001b[36malgo-1-yaj84_1  |\u001b[0m }\n",
      "\u001b[36malgo-1-yaj84_1  |\u001b[0m \n",
      "\u001b[36malgo-1-yaj84_1  |\u001b[0m \n",
      "\u001b[36malgo-1-yaj84_1  |\u001b[0m 2021-04-26 09:39:56,092 INFO - sagemaker-containers - Module sklearn_entry_point does not provide a setup.py. \n",
      "\u001b[36malgo-1-yaj84_1  |\u001b[0m Generating setup.py\n",
      "\u001b[36malgo-1-yaj84_1  |\u001b[0m 2021-04-26 09:39:56,093 INFO - sagemaker-containers - Generating setup.cfg\n",
      "\u001b[36malgo-1-yaj84_1  |\u001b[0m 2021-04-26 09:39:56,094 INFO - sagemaker-containers - Generating MANIFEST.in\n",
      "\u001b[36malgo-1-yaj84_1  |\u001b[0m 2021-04-26 09:39:56,095 INFO - sagemaker-containers - Installing module with the following command:\n",
      "\u001b[36malgo-1-yaj84_1  |\u001b[0m /miniconda3/bin/python -m pip install . \n",
      "\u001b[36malgo-1-yaj84_1  |\u001b[0m 2021/04/26 09:39:56 [crit] 17#17: *1 connect() to unix:/tmp/gunicorn.sock failed (2: No such file or directory) while connecting to upstream, client: 172.18.0.1, server: , request: \"GET /ping HTTP/1.1\", upstream: \"http://unix:/tmp/gunicorn.sock:/ping\", host: \"localhost:8080\"\n",
      "\u001b[36malgo-1-yaj84_1  |\u001b[0m 172.18.0.1 - - [26/Apr/2021:09:39:56 +0000] \"GET /ping HTTP/1.1\" 502 182 \"-\" \"python-urllib3/1.26.4\"\n",
      "\u001b[36malgo-1-yaj84_1  |\u001b[0m Processing /opt/ml/code\n",
      "\u001b[36malgo-1-yaj84_1  |\u001b[0m Building wheels for collected packages: sklearn-entry-point\n",
      "\u001b[36malgo-1-yaj84_1  |\u001b[0m   Building wheel for sklearn-entry-point (setup.py) ... \u001b[?25ldone\n",
      "\u001b[36malgo-1-yaj84_1  |\u001b[0m \u001b[?25h  Created wheel for sklearn-entry-point: filename=sklearn_entry_point-1.0.0-py2.py3-none-any.whl size=8569 sha256=ffacc7a654c81045ec4e3eaf1b406f5f5109ad03e830bbfd587d03f9352b2d42\n",
      "\u001b[36malgo-1-yaj84_1  |\u001b[0m   Stored in directory: /home/model-server/tmp/pip-ephem-wheel-cache-5tz_ms5w/wheels/3e/0f/51/2f1df833dd0412c1bc2f5ee56baac195b5be563353d111dca6\n",
      "\u001b[36malgo-1-yaj84_1  |\u001b[0m Successfully built sklearn-entry-point\n",
      "\u001b[36malgo-1-yaj84_1  |\u001b[0m 2021/04/26 09:40:01 [crit] 17#17: *3 connect() to unix:/tmp/gunicorn.sock failed (2: No such file or directory) while connecting to upstream, client: 172.18.0.1, server: , request: \"GET /ping HTTP/1.1\", upstream: \"http://unix:/tmp/gunicorn.sock:/ping\", host: \"localhost:8080\"\n",
      "\u001b[36malgo-1-yaj84_1  |\u001b[0m 172.18.0.1 - - [26/Apr/2021:09:40:01 +0000] \"GET /ping HTTP/1.1\" 502 182 \"-\" \"python-urllib3/1.26.4\"\n",
      "\u001b[36malgo-1-yaj84_1  |\u001b[0m Installing collected packages: sklearn-entry-point\n",
      "\u001b[36malgo-1-yaj84_1  |\u001b[0m Successfully installed sklearn-entry-point-1.0.0\n",
      "\u001b[36malgo-1-yaj84_1  |\u001b[0m [2021-04-26 09:40:04 +0000] [36] [INFO] Starting gunicorn 20.0.4\n",
      "\u001b[36malgo-1-yaj84_1  |\u001b[0m [2021-04-26 09:40:04 +0000] [36] [INFO] Listening at: unix:/tmp/gunicorn.sock (36)\n",
      "\u001b[36malgo-1-yaj84_1  |\u001b[0m [2021-04-26 09:40:04 +0000] [36] [INFO] Using worker: gevent\n",
      "\u001b[36malgo-1-yaj84_1  |\u001b[0m [2021-04-26 09:40:04 +0000] [39] [INFO] Booting worker with pid: 39\n",
      "\u001b[36malgo-1-yaj84_1  |\u001b[0m [2021-04-26 09:40:04 +0000] [40] [INFO] Booting worker with pid: 40\n",
      "\u001b[36malgo-1-yaj84_1  |\u001b[0m [2021-04-26 09:40:04 +0000] [41] [INFO] Booting worker with pid: 41\n",
      "\u001b[36malgo-1-yaj84_1  |\u001b[0m [2021-04-26 09:40:05 +0000] [42] [INFO] Booting worker with pid: 42\n",
      "\u001b[36malgo-1-yaj84_1  |\u001b[0m 2021-04-26 09:40:06,417 INFO - sagemaker-containers - No GPUs detected (normal if no gpus installed)\n",
      "\u001b[36malgo-1-yaj84_1  |\u001b[0m ***********Model Function************\n",
      "\u001b[36malgo-1-yaj84_1  |\u001b[0m 172.18.0.1 - - [26/Apr/2021:09:40:07 +0000] \"GET /ping HTTP/1.1\" 200 0 \"-\" \"python-urllib3/1.26.4\"\n",
      "\u001b[36malgo-1-yaj84_1  |\u001b[0m 2021-04-26 09:40:07,574 INFO - sagemaker-containers - No GPUs detected (normal if no gpus installed)\n",
      "\u001b[36malgo-1-yaj84_1  |\u001b[0m ***********Model Function************\n",
      "\u001b[36malgo-1-yaj84_1  |\u001b[0m 172.18.0.1 - - [26/Apr/2021:09:40:08 +0000] \"GET /execution-parameters HTTP/1.1\" 404 232 \"-\" \"python-urllib3/1.26.4\"\n",
      "\u001b[36malgo-1-yaj84_1  |\u001b[0m ***********Predict Function************\n",
      "\u001b[36malgo-1-yaj84_1  |\u001b[0m /miniconda3/lib/python3.7/site-packages/sklearn/compose/_column_transformer.py:440: FutureWarning: Given feature/column names or counts do not match the ones for the data given during fit. This will fail from v0.24.\n",
      "\u001b[36malgo-1-yaj84_1  |\u001b[0m   FutureWarning)\n",
      "\u001b[36malgo-1-yaj84_1  |\u001b[0m 172.18.0.1 - - [26/Apr/2021:09:40:21 +0000] \"POST /invocations HTTP/1.1\" 200 4081216 \"-\" \"python-urllib3/1.26.4\"\n",
      "Gracefully stopping... (press Ctrl+C again to force)\n",
      ".Waiting for transform job: sagemaker-scikit-learn-2021-04-26-09-39-48-781\n",
      "."
     ]
    }
   ],
   "source": [
    "# Preprocess training input\n",
    "transformer.transform(train_data, content_type=\"text/csv\")\n",
    "print(\"Waiting for transform job: \" + transformer.latest_transform_job.job_name)\n",
    "transformer.wait()\n",
    "preprocessed_train = transformer.output_path"
   ]
  },
  {
   "cell_type": "code",
   "execution_count": 8,
   "metadata": {},
   "outputs": [
    {
     "data": {
      "text/plain": [
       "'s3://sagemaker-us-east-2-768014633529/sagemaker-scikit-learn-2021-04-26-09-39-48-781'"
      ]
     },
     "execution_count": 8,
     "metadata": {},
     "output_type": "execute_result"
    }
   ],
   "source": [
    "preprocessed_train"
   ]
  },
  {
   "cell_type": "markdown",
   "metadata": {},
   "source": [
    "## Real - Time Transformation of the training data"
   ]
  },
  {
   "cell_type": "code",
   "execution_count": 9,
   "metadata": {},
   "outputs": [
    {
     "name": "stdout",
     "output_type": "stream",
     "text": [
      "Attaching to tmpsrp8uooy_algo-1-7irh1_1\n",
      "\u001b[36malgo-1-7irh1_1  |\u001b[0m 2021-04-26 09:40:58,468 INFO - sagemaker-containers - No GPUs detected (normal if no gpus installed)\n",
      "\u001b[36malgo-1-7irh1_1  |\u001b[0m 2021-04-26 09:40:58,476 INFO - sagemaker-containers - No GPUs detected (normal if no gpus installed)\n",
      "\u001b[36malgo-1-7irh1_1  |\u001b[0m 2021-04-26 09:40:58,479 INFO - sagemaker-containers - nginx config: \n",
      "\u001b[36malgo-1-7irh1_1  |\u001b[0m worker_processes auto;\n",
      "\u001b[36malgo-1-7irh1_1  |\u001b[0m daemon off;\n",
      "\u001b[36malgo-1-7irh1_1  |\u001b[0m pid /tmp/nginx.pid;\n",
      "\u001b[36malgo-1-7irh1_1  |\u001b[0m error_log  /dev/stderr;\n",
      "\u001b[36malgo-1-7irh1_1  |\u001b[0m \n",
      "\u001b[36malgo-1-7irh1_1  |\u001b[0m worker_rlimit_nofile 4096;\n",
      "\u001b[36malgo-1-7irh1_1  |\u001b[0m \n",
      "\u001b[36malgo-1-7irh1_1  |\u001b[0m events {\n",
      "\u001b[36malgo-1-7irh1_1  |\u001b[0m   worker_connections 2048;\n",
      "\u001b[36malgo-1-7irh1_1  |\u001b[0m }\n",
      "\u001b[36malgo-1-7irh1_1  |\u001b[0m \n",
      "\u001b[36malgo-1-7irh1_1  |\u001b[0m http {\n",
      "\u001b[36malgo-1-7irh1_1  |\u001b[0m   include /etc/nginx/mime.types;\n",
      "\u001b[36malgo-1-7irh1_1  |\u001b[0m   default_type application/octet-stream;\n",
      "\u001b[36malgo-1-7irh1_1  |\u001b[0m   access_log /dev/stdout combined;\n",
      "\u001b[36malgo-1-7irh1_1  |\u001b[0m \n",
      "\u001b[36malgo-1-7irh1_1  |\u001b[0m   upstream gunicorn {\n",
      "\u001b[36malgo-1-7irh1_1  |\u001b[0m     server unix:/tmp/gunicorn.sock;\n",
      "\u001b[36malgo-1-7irh1_1  |\u001b[0m   }\n",
      "\u001b[36malgo-1-7irh1_1  |\u001b[0m \n",
      "\u001b[36malgo-1-7irh1_1  |\u001b[0m   server {\n",
      "\u001b[36malgo-1-7irh1_1  |\u001b[0m     listen 8080 deferred;\n",
      "\u001b[36malgo-1-7irh1_1  |\u001b[0m     client_max_body_size 0;\n",
      "\u001b[36malgo-1-7irh1_1  |\u001b[0m \n",
      "\u001b[36malgo-1-7irh1_1  |\u001b[0m     keepalive_timeout 3;\n",
      "\u001b[36malgo-1-7irh1_1  |\u001b[0m \n",
      "\u001b[36malgo-1-7irh1_1  |\u001b[0m     location ~ ^/(ping|invocations|execution-parameters) {\n",
      "\u001b[36malgo-1-7irh1_1  |\u001b[0m       proxy_set_header X-Forwarded-For $proxy_add_x_forwarded_for;\n",
      "\u001b[36malgo-1-7irh1_1  |\u001b[0m       proxy_set_header Host $http_host;\n",
      "\u001b[36malgo-1-7irh1_1  |\u001b[0m       proxy_redirect off;\n",
      "\u001b[36malgo-1-7irh1_1  |\u001b[0m       proxy_read_timeout 60s;\n",
      "\u001b[36malgo-1-7irh1_1  |\u001b[0m       proxy_pass http://gunicorn;\n",
      "\u001b[36malgo-1-7irh1_1  |\u001b[0m     }\n",
      "\u001b[36malgo-1-7irh1_1  |\u001b[0m \n",
      "\u001b[36malgo-1-7irh1_1  |\u001b[0m     location / {\n",
      "\u001b[36malgo-1-7irh1_1  |\u001b[0m       return 404 \"{}\";\n",
      "\u001b[36malgo-1-7irh1_1  |\u001b[0m     }\n",
      "\u001b[36malgo-1-7irh1_1  |\u001b[0m \n",
      "\u001b[36malgo-1-7irh1_1  |\u001b[0m   }\n",
      "\u001b[36malgo-1-7irh1_1  |\u001b[0m }\n",
      "\u001b[36malgo-1-7irh1_1  |\u001b[0m \n",
      "\u001b[36malgo-1-7irh1_1  |\u001b[0m \n",
      "\u001b[36malgo-1-7irh1_1  |\u001b[0m 2021/04/26 09:40:59 [crit] 13#13: *1 connect() to unix:/tmp/gunicorn.sock failed (2: No such file or directory) while connecting to upstream, client: 172.18.0.1, server: , request: \"GET /ping HTTP/1.1\", upstream: \"http://unix:/tmp/gunicorn.sock:/ping\", host: \"localhost:8080\"\n",
      "\u001b[36malgo-1-7irh1_1  |\u001b[0m 172.18.0.1 - - [26/Apr/2021:09:40:59 +0000] \"GET /ping HTTP/1.1\" 502 182 \"-\" \"python-urllib3/1.26.4\"\n",
      "\u001b[36malgo-1-7irh1_1  |\u001b[0m 2021-04-26 09:40:59,948 INFO - sagemaker-containers - Module sklearn_entry_point does not provide a setup.py. \n",
      "\u001b[36malgo-1-7irh1_1  |\u001b[0m Generating setup.py\n",
      "\u001b[36malgo-1-7irh1_1  |\u001b[0m 2021-04-26 09:40:59,950 INFO - sagemaker-containers - Generating setup.cfg\n",
      "\u001b[36malgo-1-7irh1_1  |\u001b[0m 2021-04-26 09:40:59,951 INFO - sagemaker-containers - Generating MANIFEST.in\n",
      "\u001b[36malgo-1-7irh1_1  |\u001b[0m 2021-04-26 09:40:59,953 INFO - sagemaker-containers - Installing module with the following command:\n",
      "\u001b[36malgo-1-7irh1_1  |\u001b[0m /miniconda3/bin/python -m pip install . \n",
      "\u001b[36malgo-1-7irh1_1  |\u001b[0m Processing /opt/ml/code\n",
      "\u001b[36malgo-1-7irh1_1  |\u001b[0m Building wheels for collected packages: sklearn-entry-point\n",
      "\u001b[36malgo-1-7irh1_1  |\u001b[0m   Building wheel for sklearn-entry-point (setup.py) ... \u001b[?25ldone\n",
      "\u001b[36malgo-1-7irh1_1  |\u001b[0m \u001b[?25h  Created wheel for sklearn-entry-point: filename=sklearn_entry_point-1.0.0-py2.py3-none-any.whl size=8569 sha256=76a768365c1fccbdddbc987f6d778ced75b85c08c99a4561371e0501b668f5d2\n",
      "\u001b[36malgo-1-7irh1_1  |\u001b[0m   Stored in directory: /home/model-server/tmp/pip-ephem-wheel-cache-iul0cozl/wheels/3e/0f/51/2f1df833dd0412c1bc2f5ee56baac195b5be563353d111dca6\n",
      "\u001b[36malgo-1-7irh1_1  |\u001b[0m Successfully built sklearn-entry-point\n",
      "\u001b[36malgo-1-7irh1_1  |\u001b[0m Installing collected packages: sklearn-entry-point\n",
      "\u001b[36malgo-1-7irh1_1  |\u001b[0m Successfully installed sklearn-entry-point-1.0.0\n",
      "\u001b[36malgo-1-7irh1_1  |\u001b[0m 2021/04/26 09:41:04 [crit] 13#13: *3 connect() to unix:/tmp/gunicorn.sock failed (2: No such file or directory) while connecting to upstream, client: 172.18.0.1, server: , request: \"GET /ping HTTP/1.1\", upstream: \"http://unix:/tmp/gunicorn.sock:/ping\", host: \"localhost:8080\"\n",
      "\u001b[36malgo-1-7irh1_1  |\u001b[0m 172.18.0.1 - - [26/Apr/2021:09:41:04 +0000] \"GET /ping HTTP/1.1\" 502 182 \"-\" \"python-urllib3/1.26.4\"\n",
      "\u001b[36malgo-1-7irh1_1  |\u001b[0m [2021-04-26 09:41:04 +0000] [36] [INFO] Starting gunicorn 20.0.4\n",
      "\u001b[36malgo-1-7irh1_1  |\u001b[0m [2021-04-26 09:41:04 +0000] [36] [INFO] Listening at: unix:/tmp/gunicorn.sock (36)\n",
      "\u001b[36malgo-1-7irh1_1  |\u001b[0m [2021-04-26 09:41:04 +0000] [36] [INFO] Using worker: gevent\n",
      "\u001b[36malgo-1-7irh1_1  |\u001b[0m [2021-04-26 09:41:04 +0000] [39] [INFO] Booting worker with pid: 39\n",
      "\u001b[36malgo-1-7irh1_1  |\u001b[0m [2021-04-26 09:41:04 +0000] [40] [INFO] Booting worker with pid: 40\n",
      "\u001b[36malgo-1-7irh1_1  |\u001b[0m [2021-04-26 09:41:04 +0000] [41] [INFO] Booting worker with pid: 41\n",
      "\u001b[36malgo-1-7irh1_1  |\u001b[0m [2021-04-26 09:41:05 +0000] [42] [INFO] Booting worker with pid: 42\n",
      "\u001b[36malgo-1-7irh1_1  |\u001b[0m 2021-04-26 09:41:09,168 INFO - sagemaker-containers - No GPUs detected (normal if no gpus installed)\n",
      "\u001b[36malgo-1-7irh1_1  |\u001b[0m ***********Model Function************\n",
      "!\u001b[36malgo-1-7irh1_1  |\u001b[0m 172.18.0.1 - - [26/Apr/2021:09:41:10 +0000] \"GET /ping HTTP/1.1\" 200 0 \"-\" \"python-urllib3/1.26.4\"\n"
     ]
    },
    {
     "data": {
      "text/plain": [
       "<sagemaker.sklearn.model.SKLearnPredictor at 0x7f76906ebac0>"
      ]
     },
     "execution_count": 9,
     "metadata": {},
     "output_type": "execute_result"
    }
   ],
   "source": [
    "from sagemaker.model import Model\n",
    "from sagemaker.pipeline import PipelineModel\n",
    "import boto3\n",
    "from time import gmtime, strftime\n",
    "\n",
    "\n",
    "timestamp_prefix = strftime(\"%Y-%m-%d-%H-%M-%S\", gmtime())\n",
    "\n",
    "scikit_learn_inference_model = sklearn_preprocessor.create_model()\n",
    "\n",
    "model_name = 'inference-pipeline-' + timestamp_prefix\n",
    "endpoint_name = 'inference-pipeline-ep-' + timestamp_prefix\n",
    "\n",
    "#sm_model.sagemaker_session=None\n",
    "\n",
    "scikit_learn_inference_model.deploy(initial_instance_count=1, instance_type='local', endpoint_name=endpoint_name)"
   ]
  },
  {
   "cell_type": "markdown",
   "metadata": {},
   "source": [
    "## Make a request to the endpoint"
   ]
  },
  {
   "cell_type": "code",
   "execution_count": 10,
   "metadata": {},
   "outputs": [
    {
     "name": "stdout",
     "output_type": "stream",
     "text": [
      "\u001b[36malgo-1-7irh1_1  |\u001b[0m 2021-04-26 09:41:10,447 INFO - sagemaker-containers - No GPUs detected (normal if no gpus installed)\n",
      "\u001b[36malgo-1-7irh1_1  |\u001b[0m ***********Model Function************\n",
      "\u001b[36malgo-1-7irh1_1  |\u001b[0m ***********Predict Function************\n",
      "b'{\"instances\": [{\"features\": [-1.3408764930120565, 0.8514634482951091, -0.21099315585118414, 1.1430410231864847, 0.5257730939190086, 0.5164773116405509, 0.6146760713962672, 1.6402561279658028, 0.5819441198401629, -0.030616763948385764, -1.0052566158906469, 0.0, 0.0, 0.0, 0.0, 1.0]}]}'\u001b[36malgo-1-7irh1_1  |\u001b[0m 172.18.0.1 - - [26/Apr/2021:09:41:11 +0000] \"POST /invocations HTTP/1.1\" 200 283 \"-\" \"python-urllib3/1.26.4\"\n",
      "\n"
     ]
    }
   ],
   "source": [
    "from sagemaker.predictor import json_serializer, csv_serializer, json_deserializer, Predictor\n",
    "#from sagemaker.content_types import CONTENT_TYPE_CSV, CONTENT_TYPE_JSON\n",
    "\n",
    "csv_serializer = sagemaker.serializers.CSVSerializer(content_type=\"text/csv\")\n",
    "data = \"\"\"-122.26,37.46,26,5067,750,1996,728,7.0001,NEAR OCEAN\"\"\"\n",
    "#-118.15,34.2,52,1786,306,1018,322,4.1518,INLAND\n",
    "#-118.39,34.12,29,6447,1012,2184,960,8.2816,<1H OCEAN\n",
    "\n",
    "\n",
    "predictor = Predictor(\n",
    "    endpoint_name=endpoint_name,\n",
    "    sagemaker_session=sagemaker_session,\n",
    "    serializer=csv_serializer)\n",
    "\n",
    "\n",
    "print(predictor.predict(data))"
   ]
  },
  {
   "cell_type": "code",
   "execution_count": null,
   "metadata": {},
   "outputs": [],
   "source": []
  }
 ],
 "metadata": {
  "kernelspec": {
   "display_name": "Python 3",
   "language": "python",
   "name": "python3"
  },
  "language_info": {
   "codemirror_mode": {
    "name": "ipython",
    "version": 3
   },
   "file_extension": ".py",
   "mimetype": "text/x-python",
   "name": "python",
   "nbconvert_exporter": "python",
   "pygments_lexer": "ipython3",
   "version": "3.6.9"
  }
 },
 "nbformat": 4,
 "nbformat_minor": 4
}
